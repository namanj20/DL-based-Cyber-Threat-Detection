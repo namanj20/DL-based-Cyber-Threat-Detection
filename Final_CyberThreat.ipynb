{
 "cells": [
  {
   "cell_type": "markdown",
   "id": "2bae7c43",
   "metadata": {},
   "source": [
    "# Importing libraries"
   ]
  },
  {
   "cell_type": "code",
   "execution_count": 2,
   "id": "67b606b7",
   "metadata": {
    "ExecuteTime": {
     "end_time": "2024-01-10T15:32:02.310233Z",
     "start_time": "2024-01-10T15:32:02.286063Z"
    }
   },
   "outputs": [
    {
     "name": "stdout",
     "output_type": "stream",
     "text": [
      "WARNING:tensorflow:From C:\\Users\\naman\\AppData\\Local\\Programs\\Python\\Python310\\lib\\site-packages\\keras\\src\\losses.py:2976: The name tf.losses.sparse_softmax_cross_entropy is deprecated. Please use tf.compat.v1.losses.sparse_softmax_cross_entropy instead.\n",
      "\n"
     ]
    }
   ],
   "source": [
    "import numpy as np \n",
    "import pandas as pd \n",
    "import matplotlib.pyplot as plt\n",
    "import seaborn as sns\n",
    "import seaborn\n",
    "import tensorflow as tf\n",
    "from tensorflow import keras\n",
    "from sklearn.metrics import mean_squared_error, r2_score, mean_absolute_error,precision_score, recall_score, f1_score,confusion_matrix\n",
    "from sklearn.model_selection import train_test_split, cross_val_score, StratifiedKFold\n",
    "from sklearn.preprocessing import StandardScaler, OneHotEncoder, LabelEncoder, MultiLabelBinarizer\n",
    "from sklearn.compose import ColumnTransformer\n",
    "from sklearn.pipeline import Pipeline\n",
    "from tensorflow.keras.models import Sequential\n",
    "from tensorflow.keras.layers import Conv1D,MaxPooling1D,Flatten,Dense, Dropout\n",
    "from tensorflow.keras import Sequential, optimizers, losses, layers\n",
    "from tensorflow.keras.callbacks import TensorBoard, EarlyStopping\n",
    "from tensorflow.keras.optimizers import Adam, RMSprop, SGD, Adagrad\n",
    "from tensorflow.keras.regularizers import l2"
   ]
  },
  {
   "cell_type": "code",
   "execution_count": 3,
   "id": "a0217332",
   "metadata": {
    "ExecuteTime": {
     "end_time": "2024-01-10T15:32:03.208232Z",
     "start_time": "2024-01-10T15:32:02.674912Z"
    }
   },
   "outputs": [],
   "source": [
    "df = pd.read_csv('Final_Dataset.csv')\n",
    "df = df.dropna()"
   ]
  },
  {
   "cell_type": "code",
   "execution_count": 4,
   "id": "6eb99fd9",
   "metadata": {
    "ExecuteTime": {
     "end_time": "2024-01-10T15:32:03.348896Z",
     "start_time": "2024-01-10T15:32:03.320873Z"
    }
   },
   "outputs": [
    {
     "data": {
      "text/html": [
       "<div>\n",
       "<style scoped>\n",
       "    .dataframe tbody tr th:only-of-type {\n",
       "        vertical-align: middle;\n",
       "    }\n",
       "\n",
       "    .dataframe tbody tr th {\n",
       "        vertical-align: top;\n",
       "    }\n",
       "\n",
       "    .dataframe thead th {\n",
       "        text-align: right;\n",
       "    }\n",
       "</style>\n",
       "<table border=\"1\" class=\"dataframe\">\n",
       "  <thead>\n",
       "    <tr style=\"text-align: right;\">\n",
       "      <th></th>\n",
       "      <th>Flow ID</th>\n",
       "      <th>Src IP</th>\n",
       "      <th>Src Port</th>\n",
       "      <th>Dst IP</th>\n",
       "      <th>Dst Port</th>\n",
       "      <th>Protocol</th>\n",
       "      <th>Timestamp</th>\n",
       "      <th>Flow Duration</th>\n",
       "      <th>Total Fwd Packet</th>\n",
       "      <th>Total Bwd packets</th>\n",
       "      <th>...</th>\n",
       "      <th>Active Mean</th>\n",
       "      <th>Active Std</th>\n",
       "      <th>Active Max</th>\n",
       "      <th>Active Min</th>\n",
       "      <th>Idle Mean</th>\n",
       "      <th>Idle Std</th>\n",
       "      <th>Idle Max</th>\n",
       "      <th>Idle Min</th>\n",
       "      <th>Label</th>\n",
       "      <th>Connection Type</th>\n",
       "    </tr>\n",
       "  </thead>\n",
       "  <tbody>\n",
       "    <tr>\n",
       "      <th>0</th>\n",
       "      <td>192.168.2.4-91.189.91.49-41416-80-6</td>\n",
       "      <td>192.168.2.4</td>\n",
       "      <td>41416</td>\n",
       "      <td>91.189.91.49</td>\n",
       "      <td>80</td>\n",
       "      <td>6</td>\n",
       "      <td>31/10/2023 01:15:14 PM</td>\n",
       "      <td>284299</td>\n",
       "      <td>3</td>\n",
       "      <td>3</td>\n",
       "      <td>...</td>\n",
       "      <td>0.0</td>\n",
       "      <td>0.0</td>\n",
       "      <td>0.0</td>\n",
       "      <td>0.0</td>\n",
       "      <td>1.698773e+15</td>\n",
       "      <td>0.000000e+00</td>\n",
       "      <td>1.698773e+15</td>\n",
       "      <td>1.698773e+15</td>\n",
       "      <td>Benign</td>\n",
       "      <td>wired</td>\n",
       "    </tr>\n",
       "    <tr>\n",
       "      <th>1</th>\n",
       "      <td>192.168.2.4-91.189.91.49-41416-80-6</td>\n",
       "      <td>192.168.2.4</td>\n",
       "      <td>41416</td>\n",
       "      <td>91.189.91.49</td>\n",
       "      <td>80</td>\n",
       "      <td>6</td>\n",
       "      <td>31/10/2023 01:15:15 PM</td>\n",
       "      <td>3</td>\n",
       "      <td>2</td>\n",
       "      <td>0</td>\n",
       "      <td>...</td>\n",
       "      <td>0.0</td>\n",
       "      <td>0.0</td>\n",
       "      <td>0.0</td>\n",
       "      <td>0.0</td>\n",
       "      <td>1.698773e+15</td>\n",
       "      <td>0.000000e+00</td>\n",
       "      <td>1.698773e+15</td>\n",
       "      <td>1.698773e+15</td>\n",
       "      <td>Benign</td>\n",
       "      <td>wired</td>\n",
       "    </tr>\n",
       "    <tr>\n",
       "      <th>2</th>\n",
       "      <td>192.168.1.1-192.168.1.9-37728-8080-6</td>\n",
       "      <td>192.168.1.1</td>\n",
       "      <td>37728</td>\n",
       "      <td>192.168.1.9</td>\n",
       "      <td>8080</td>\n",
       "      <td>6</td>\n",
       "      <td>31/10/2023 01:15:12 PM</td>\n",
       "      <td>5803248</td>\n",
       "      <td>7</td>\n",
       "      <td>20</td>\n",
       "      <td>...</td>\n",
       "      <td>40284.0</td>\n",
       "      <td>0.0</td>\n",
       "      <td>40284.0</td>\n",
       "      <td>40284.0</td>\n",
       "      <td>8.493863e+14</td>\n",
       "      <td>1.201214e+15</td>\n",
       "      <td>1.698773e+15</td>\n",
       "      <td>5.762964e+06</td>\n",
       "      <td>Benign</td>\n",
       "      <td>wired</td>\n",
       "    </tr>\n",
       "    <tr>\n",
       "      <th>3</th>\n",
       "      <td>192.168.1.87-142.250.80.4-35032-80-6</td>\n",
       "      <td>192.168.1.87</td>\n",
       "      <td>35032</td>\n",
       "      <td>142.250.80.4</td>\n",
       "      <td>80</td>\n",
       "      <td>6</td>\n",
       "      <td>31/10/2023 01:15:26 PM</td>\n",
       "      <td>145801</td>\n",
       "      <td>5</td>\n",
       "      <td>3</td>\n",
       "      <td>...</td>\n",
       "      <td>0.0</td>\n",
       "      <td>0.0</td>\n",
       "      <td>0.0</td>\n",
       "      <td>0.0</td>\n",
       "      <td>1.698773e+15</td>\n",
       "      <td>0.000000e+00</td>\n",
       "      <td>1.698773e+15</td>\n",
       "      <td>1.698773e+15</td>\n",
       "      <td>Benign</td>\n",
       "      <td>wired</td>\n",
       "    </tr>\n",
       "    <tr>\n",
       "      <th>4</th>\n",
       "      <td>192.168.1.207-18.164.124.116-39264-443-6</td>\n",
       "      <td>192.168.1.207</td>\n",
       "      <td>39264</td>\n",
       "      <td>18.164.124.116</td>\n",
       "      <td>443</td>\n",
       "      <td>6</td>\n",
       "      <td>31/10/2023 01:15:31 PM</td>\n",
       "      <td>82152</td>\n",
       "      <td>9</td>\n",
       "      <td>10</td>\n",
       "      <td>...</td>\n",
       "      <td>0.0</td>\n",
       "      <td>0.0</td>\n",
       "      <td>0.0</td>\n",
       "      <td>0.0</td>\n",
       "      <td>1.698773e+15</td>\n",
       "      <td>0.000000e+00</td>\n",
       "      <td>1.698773e+15</td>\n",
       "      <td>1.698773e+15</td>\n",
       "      <td>Benign</td>\n",
       "      <td>wired</td>\n",
       "    </tr>\n",
       "  </tbody>\n",
       "</table>\n",
       "<p>5 rows × 85 columns</p>\n",
       "</div>"
      ],
      "text/plain": [
       "                                    Flow ID         Src IP  Src Port   \n",
       "0       192.168.2.4-91.189.91.49-41416-80-6    192.168.2.4     41416  \\\n",
       "1       192.168.2.4-91.189.91.49-41416-80-6    192.168.2.4     41416   \n",
       "2      192.168.1.1-192.168.1.9-37728-8080-6    192.168.1.1     37728   \n",
       "3      192.168.1.87-142.250.80.4-35032-80-6   192.168.1.87     35032   \n",
       "4  192.168.1.207-18.164.124.116-39264-443-6  192.168.1.207     39264   \n",
       "\n",
       "           Dst IP  Dst Port  Protocol               Timestamp  Flow Duration   \n",
       "0    91.189.91.49        80         6  31/10/2023 01:15:14 PM         284299  \\\n",
       "1    91.189.91.49        80         6  31/10/2023 01:15:15 PM              3   \n",
       "2     192.168.1.9      8080         6  31/10/2023 01:15:12 PM        5803248   \n",
       "3    142.250.80.4        80         6  31/10/2023 01:15:26 PM         145801   \n",
       "4  18.164.124.116       443         6  31/10/2023 01:15:31 PM          82152   \n",
       "\n",
       "   Total Fwd Packet  Total Bwd packets  ...  Active Mean  Active Std   \n",
       "0                 3                  3  ...          0.0         0.0  \\\n",
       "1                 2                  0  ...          0.0         0.0   \n",
       "2                 7                 20  ...      40284.0         0.0   \n",
       "3                 5                  3  ...          0.0         0.0   \n",
       "4                 9                 10  ...          0.0         0.0   \n",
       "\n",
       "   Active Max  Active Min     Idle Mean      Idle Std      Idle Max   \n",
       "0         0.0         0.0  1.698773e+15  0.000000e+00  1.698773e+15  \\\n",
       "1         0.0         0.0  1.698773e+15  0.000000e+00  1.698773e+15   \n",
       "2     40284.0     40284.0  8.493863e+14  1.201214e+15  1.698773e+15   \n",
       "3         0.0         0.0  1.698773e+15  0.000000e+00  1.698773e+15   \n",
       "4         0.0         0.0  1.698773e+15  0.000000e+00  1.698773e+15   \n",
       "\n",
       "       Idle Min   Label  Connection Type  \n",
       "0  1.698773e+15  Benign            wired  \n",
       "1  1.698773e+15  Benign            wired  \n",
       "2  5.762964e+06  Benign            wired  \n",
       "3  1.698773e+15  Benign            wired  \n",
       "4  1.698773e+15  Benign            wired  \n",
       "\n",
       "[5 rows x 85 columns]"
      ]
     },
     "execution_count": 4,
     "metadata": {},
     "output_type": "execute_result"
    }
   ],
   "source": [
    "df.head()"
   ]
  },
  {
   "cell_type": "code",
   "execution_count": 5,
   "id": "34eac327",
   "metadata": {
    "ExecuteTime": {
     "end_time": "2024-01-10T15:32:03.475085Z",
     "start_time": "2024-01-10T15:32:03.398481Z"
    }
   },
   "outputs": [
    {
     "name": "stdout",
     "output_type": "stream",
     "text": [
      "<class 'pandas.core.frame.DataFrame'>\n",
      "Index: 61312 entries, 0 to 61488\n",
      "Data columns (total 85 columns):\n",
      " #   Column                      Non-Null Count  Dtype  \n",
      "---  ------                      --------------  -----  \n",
      " 0   Flow ID                     61312 non-null  object \n",
      " 1   Src IP                      61312 non-null  object \n",
      " 2   Src Port                    61312 non-null  int64  \n",
      " 3   Dst IP                      61312 non-null  object \n",
      " 4   Dst Port                    61312 non-null  int64  \n",
      " 5   Protocol                    61312 non-null  int64  \n",
      " 6   Timestamp                   61312 non-null  object \n",
      " 7   Flow Duration               61312 non-null  int64  \n",
      " 8   Total Fwd Packet            61312 non-null  int64  \n",
      " 9   Total Bwd packets           61312 non-null  int64  \n",
      " 10  Total Length of Fwd Packet  61312 non-null  float64\n",
      " 11  Total Length of Bwd Packet  61312 non-null  float64\n",
      " 12  Fwd Packet Length Max       61312 non-null  float64\n",
      " 13  Fwd Packet Length Min       61312 non-null  float64\n",
      " 14  Fwd Packet Length Mean      61312 non-null  float64\n",
      " 15  Fwd Packet Length Std       61312 non-null  float64\n",
      " 16  Bwd Packet Length Max       61312 non-null  float64\n",
      " 17  Bwd Packet Length Min       61312 non-null  float64\n",
      " 18  Bwd Packet Length Mean      61312 non-null  float64\n",
      " 19  Bwd Packet Length Std       61312 non-null  float64\n",
      " 20  Flow Bytes/s                61312 non-null  float64\n",
      " 21  Flow Packets/s              61312 non-null  float64\n",
      " 22  Flow IAT Mean               61312 non-null  float64\n",
      " 23  Flow IAT Std                61312 non-null  float64\n",
      " 24  Flow IAT Max                61312 non-null  float64\n",
      " 25  Flow IAT Min                61312 non-null  float64\n",
      " 26  Fwd IAT Total               61312 non-null  float64\n",
      " 27  Fwd IAT Mean                61312 non-null  float64\n",
      " 28  Fwd IAT Std                 61312 non-null  float64\n",
      " 29  Fwd IAT Max                 61312 non-null  float64\n",
      " 30  Fwd IAT Min                 61312 non-null  float64\n",
      " 31  Bwd IAT Total               61312 non-null  float64\n",
      " 32  Bwd IAT Mean                61312 non-null  float64\n",
      " 33  Bwd IAT Std                 61312 non-null  float64\n",
      " 34  Bwd IAT Max                 61312 non-null  float64\n",
      " 35  Bwd IAT Min                 61312 non-null  float64\n",
      " 36  Fwd PSH Flags               61312 non-null  int64  \n",
      " 37  Bwd PSH Flags               61312 non-null  int64  \n",
      " 38  Fwd URG Flags               61312 non-null  int64  \n",
      " 39  Bwd URG Flags               61312 non-null  int64  \n",
      " 40  Fwd Header Length           61312 non-null  int64  \n",
      " 41  Bwd Header Length           61312 non-null  int64  \n",
      " 42  Fwd Packets/s               61312 non-null  float64\n",
      " 43  Bwd Packets/s               61312 non-null  float64\n",
      " 44  Packet Length Min           61312 non-null  float64\n",
      " 45  Packet Length Max           61312 non-null  float64\n",
      " 46  Packet Length Mean          61312 non-null  float64\n",
      " 47  Packet Length Std           61312 non-null  float64\n",
      " 48  Packet Length Variance      61312 non-null  float64\n",
      " 49  FIN Flag Count              61312 non-null  int64  \n",
      " 50  SYN Flag Count              61312 non-null  int64  \n",
      " 51  RST Flag Count              61312 non-null  int64  \n",
      " 52  PSH Flag Count              61312 non-null  int64  \n",
      " 53  ACK Flag Count              61312 non-null  int64  \n",
      " 54  URG Flag Count              61312 non-null  int64  \n",
      " 55  CWR Flag Count              61312 non-null  int64  \n",
      " 56  ECE Flag Count              61312 non-null  int64  \n",
      " 57  Down/Up Ratio               61312 non-null  float64\n",
      " 58  Average Packet Size         61312 non-null  float64\n",
      " 59  Fwd Segment Size Avg        61312 non-null  float64\n",
      " 60  Bwd Segment Size Avg        61312 non-null  float64\n",
      " 61  Fwd Bytes/Bulk Avg          61312 non-null  int64  \n",
      " 62  Fwd Packet/Bulk Avg         61312 non-null  int64  \n",
      " 63  Fwd Bulk Rate Avg           61312 non-null  int64  \n",
      " 64  Bwd Bytes/Bulk Avg          61312 non-null  int64  \n",
      " 65  Bwd Packet/Bulk Avg         61312 non-null  int64  \n",
      " 66  Bwd Bulk Rate Avg           61312 non-null  int64  \n",
      " 67  Subflow Fwd Packets         61312 non-null  int64  \n",
      " 68  Subflow Fwd Bytes           61312 non-null  int64  \n",
      " 69  Subflow Bwd Packets         61312 non-null  int64  \n",
      " 70  Subflow Bwd Bytes           61312 non-null  int64  \n",
      " 71  FWD Init Win Bytes          61312 non-null  int64  \n",
      " 72  Bwd Init Win Bytes          61312 non-null  int64  \n",
      " 73  Fwd Act Data Pkts           61312 non-null  int64  \n",
      " 74  Fwd Seg Size Min            61312 non-null  int64  \n",
      " 75  Active Mean                 61312 non-null  float64\n",
      " 76  Active Std                  61312 non-null  float64\n",
      " 77  Active Max                  61312 non-null  float64\n",
      " 78  Active Min                  61312 non-null  float64\n",
      " 79  Idle Mean                   61312 non-null  float64\n",
      " 80  Idle Std                    61312 non-null  float64\n",
      " 81  Idle Max                    61312 non-null  float64\n",
      " 82  Idle Min                    61312 non-null  float64\n",
      " 83  Label                       61312 non-null  object \n",
      " 84  Connection Type             61312 non-null  object \n",
      "dtypes: float64(45), int64(34), object(6)\n",
      "memory usage: 40.2+ MB\n"
     ]
    }
   ],
   "source": [
    "df.info()"
   ]
  },
  {
   "cell_type": "code",
   "execution_count": 6,
   "id": "702bc122",
   "metadata": {
    "ExecuteTime": {
     "end_time": "2024-01-10T15:32:03.886372Z",
     "start_time": "2024-01-10T15:32:03.592796Z"
    }
   },
   "outputs": [
    {
     "data": {
      "text/html": [
       "<div>\n",
       "<style scoped>\n",
       "    .dataframe tbody tr th:only-of-type {\n",
       "        vertical-align: middle;\n",
       "    }\n",
       "\n",
       "    .dataframe tbody tr th {\n",
       "        vertical-align: top;\n",
       "    }\n",
       "\n",
       "    .dataframe thead th {\n",
       "        text-align: right;\n",
       "    }\n",
       "</style>\n",
       "<table border=\"1\" class=\"dataframe\">\n",
       "  <thead>\n",
       "    <tr style=\"text-align: right;\">\n",
       "      <th></th>\n",
       "      <th>Src Port</th>\n",
       "      <th>Dst Port</th>\n",
       "      <th>Protocol</th>\n",
       "      <th>Flow Duration</th>\n",
       "      <th>Total Fwd Packet</th>\n",
       "      <th>Total Bwd packets</th>\n",
       "      <th>Total Length of Fwd Packet</th>\n",
       "      <th>Total Length of Bwd Packet</th>\n",
       "      <th>Fwd Packet Length Max</th>\n",
       "      <th>Fwd Packet Length Min</th>\n",
       "      <th>...</th>\n",
       "      <th>Fwd Act Data Pkts</th>\n",
       "      <th>Fwd Seg Size Min</th>\n",
       "      <th>Active Mean</th>\n",
       "      <th>Active Std</th>\n",
       "      <th>Active Max</th>\n",
       "      <th>Active Min</th>\n",
       "      <th>Idle Mean</th>\n",
       "      <th>Idle Std</th>\n",
       "      <th>Idle Max</th>\n",
       "      <th>Idle Min</th>\n",
       "    </tr>\n",
       "  </thead>\n",
       "  <tbody>\n",
       "    <tr>\n",
       "      <th>count</th>\n",
       "      <td>61312.000000</td>\n",
       "      <td>61312.000000</td>\n",
       "      <td>61312.000000</td>\n",
       "      <td>6.131200e+04</td>\n",
       "      <td>61312.000000</td>\n",
       "      <td>61312.000000</td>\n",
       "      <td>6.131200e+04</td>\n",
       "      <td>6.131200e+04</td>\n",
       "      <td>61312.000000</td>\n",
       "      <td>61312.000000</td>\n",
       "      <td>...</td>\n",
       "      <td>61312.000000</td>\n",
       "      <td>61312.000000</td>\n",
       "      <td>6.131200e+04</td>\n",
       "      <td>6.131200e+04</td>\n",
       "      <td>6.131200e+04</td>\n",
       "      <td>6.131200e+04</td>\n",
       "      <td>6.131200e+04</td>\n",
       "      <td>6.131200e+04</td>\n",
       "      <td>6.131200e+04</td>\n",
       "      <td>6.131200e+04</td>\n",
       "    </tr>\n",
       "    <tr>\n",
       "      <th>mean</th>\n",
       "      <td>33917.887591</td>\n",
       "      <td>10496.420978</td>\n",
       "      <td>7.329479</td>\n",
       "      <td>5.526878e+06</td>\n",
       "      <td>7.946944</td>\n",
       "      <td>8.761189</td>\n",
       "      <td>4.113475e+03</td>\n",
       "      <td>3.100417e+04</td>\n",
       "      <td>148.914372</td>\n",
       "      <td>10.933618</td>\n",
       "      <td>...</td>\n",
       "      <td>4.049158</td>\n",
       "      <td>19.333442</td>\n",
       "      <td>1.690951e+05</td>\n",
       "      <td>3.768120e+04</td>\n",
       "      <td>2.050154e+05</td>\n",
       "      <td>1.399565e+05</td>\n",
       "      <td>1.504906e+15</td>\n",
       "      <td>2.471550e+14</td>\n",
       "      <td>1.698824e+15</td>\n",
       "      <td>1.335041e+15</td>\n",
       "    </tr>\n",
       "    <tr>\n",
       "      <th>std</th>\n",
       "      <td>23810.388519</td>\n",
       "      <td>18687.563998</td>\n",
       "      <td>5.218323</td>\n",
       "      <td>1.115194e+07</td>\n",
       "      <td>174.571663</td>\n",
       "      <td>265.512144</td>\n",
       "      <td>2.740699e+05</td>\n",
       "      <td>1.518680e+06</td>\n",
       "      <td>870.484158</td>\n",
       "      <td>39.178181</td>\n",
       "      <td>...</td>\n",
       "      <td>137.080954</td>\n",
       "      <td>11.563305</td>\n",
       "      <td>1.087408e+06</td>\n",
       "      <td>4.587261e+05</td>\n",
       "      <td>1.308447e+06</td>\n",
       "      <td>1.000907e+06</td>\n",
       "      <td>3.775421e+14</td>\n",
       "      <td>4.769617e+14</td>\n",
       "      <td>1.034010e+11</td>\n",
       "      <td>6.968948e+14</td>\n",
       "    </tr>\n",
       "    <tr>\n",
       "      <th>min</th>\n",
       "      <td>0.000000</td>\n",
       "      <td>0.000000</td>\n",
       "      <td>0.000000</td>\n",
       "      <td>0.000000e+00</td>\n",
       "      <td>1.000000</td>\n",
       "      <td>0.000000</td>\n",
       "      <td>0.000000e+00</td>\n",
       "      <td>0.000000e+00</td>\n",
       "      <td>0.000000</td>\n",
       "      <td>0.000000</td>\n",
       "      <td>...</td>\n",
       "      <td>0.000000</td>\n",
       "      <td>0.000000</td>\n",
       "      <td>0.000000e+00</td>\n",
       "      <td>0.000000e+00</td>\n",
       "      <td>0.000000e+00</td>\n",
       "      <td>0.000000e+00</td>\n",
       "      <td>1.415785e+14</td>\n",
       "      <td>0.000000e+00</td>\n",
       "      <td>1.698678e+15</td>\n",
       "      <td>5.000013e+06</td>\n",
       "    </tr>\n",
       "    <tr>\n",
       "      <th>25%</th>\n",
       "      <td>5353.000000</td>\n",
       "      <td>53.000000</td>\n",
       "      <td>6.000000</td>\n",
       "      <td>5.858000e+03</td>\n",
       "      <td>1.000000</td>\n",
       "      <td>0.000000</td>\n",
       "      <td>0.000000e+00</td>\n",
       "      <td>0.000000e+00</td>\n",
       "      <td>0.000000</td>\n",
       "      <td>0.000000</td>\n",
       "      <td>...</td>\n",
       "      <td>0.000000</td>\n",
       "      <td>8.000000</td>\n",
       "      <td>0.000000e+00</td>\n",
       "      <td>0.000000e+00</td>\n",
       "      <td>0.000000e+00</td>\n",
       "      <td>0.000000e+00</td>\n",
       "      <td>1.698678e+15</td>\n",
       "      <td>0.000000e+00</td>\n",
       "      <td>1.698696e+15</td>\n",
       "      <td>1.698678e+15</td>\n",
       "    </tr>\n",
       "    <tr>\n",
       "      <th>50%</th>\n",
       "      <td>42378.500000</td>\n",
       "      <td>443.000000</td>\n",
       "      <td>6.000000</td>\n",
       "      <td>7.369450e+04</td>\n",
       "      <td>2.000000</td>\n",
       "      <td>1.000000</td>\n",
       "      <td>6.000000e+00</td>\n",
       "      <td>0.000000e+00</td>\n",
       "      <td>2.000000</td>\n",
       "      <td>0.000000</td>\n",
       "      <td>...</td>\n",
       "      <td>0.000000</td>\n",
       "      <td>24.000000</td>\n",
       "      <td>0.000000e+00</td>\n",
       "      <td>0.000000e+00</td>\n",
       "      <td>0.000000e+00</td>\n",
       "      <td>0.000000e+00</td>\n",
       "      <td>1.698759e+15</td>\n",
       "      <td>0.000000e+00</td>\n",
       "      <td>1.698847e+15</td>\n",
       "      <td>1.698759e+15</td>\n",
       "    </tr>\n",
       "    <tr>\n",
       "      <th>75%</th>\n",
       "      <td>55551.000000</td>\n",
       "      <td>8194.000000</td>\n",
       "      <td>6.000000</td>\n",
       "      <td>3.635660e+06</td>\n",
       "      <td>3.000000</td>\n",
       "      <td>1.000000</td>\n",
       "      <td>4.200000e+01</td>\n",
       "      <td>1.010000e+02</td>\n",
       "      <td>31.000000</td>\n",
       "      <td>6.000000</td>\n",
       "      <td>...</td>\n",
       "      <td>1.000000</td>\n",
       "      <td>32.000000</td>\n",
       "      <td>0.000000e+00</td>\n",
       "      <td>0.000000e+00</td>\n",
       "      <td>0.000000e+00</td>\n",
       "      <td>0.000000e+00</td>\n",
       "      <td>1.698853e+15</td>\n",
       "      <td>0.000000e+00</td>\n",
       "      <td>1.698853e+15</td>\n",
       "      <td>1.698853e+15</td>\n",
       "    </tr>\n",
       "    <tr>\n",
       "      <th>max</th>\n",
       "      <td>65534.000000</td>\n",
       "      <td>65535.000000</td>\n",
       "      <td>17.000000</td>\n",
       "      <td>6.055938e+07</td>\n",
       "      <td>16164.000000</td>\n",
       "      <td>28683.000000</td>\n",
       "      <td>2.447558e+07</td>\n",
       "      <td>2.367148e+08</td>\n",
       "      <td>30360.000000</td>\n",
       "      <td>2492.000000</td>\n",
       "      <td>...</td>\n",
       "      <td>14298.000000</td>\n",
       "      <td>44.000000</td>\n",
       "      <td>4.563963e+07</td>\n",
       "      <td>2.360663e+07</td>\n",
       "      <td>4.563963e+07</td>\n",
       "      <td>4.563963e+07</td>\n",
       "      <td>1.699022e+15</td>\n",
       "      <td>1.201390e+15</td>\n",
       "      <td>1.699022e+15</td>\n",
       "      <td>1.699022e+15</td>\n",
       "    </tr>\n",
       "  </tbody>\n",
       "</table>\n",
       "<p>8 rows × 79 columns</p>\n",
       "</div>"
      ],
      "text/plain": [
       "           Src Port      Dst Port      Protocol  Flow Duration   \n",
       "count  61312.000000  61312.000000  61312.000000   6.131200e+04  \\\n",
       "mean   33917.887591  10496.420978      7.329479   5.526878e+06   \n",
       "std    23810.388519  18687.563998      5.218323   1.115194e+07   \n",
       "min        0.000000      0.000000      0.000000   0.000000e+00   \n",
       "25%     5353.000000     53.000000      6.000000   5.858000e+03   \n",
       "50%    42378.500000    443.000000      6.000000   7.369450e+04   \n",
       "75%    55551.000000   8194.000000      6.000000   3.635660e+06   \n",
       "max    65534.000000  65535.000000     17.000000   6.055938e+07   \n",
       "\n",
       "       Total Fwd Packet  Total Bwd packets  Total Length of Fwd Packet   \n",
       "count      61312.000000       61312.000000                6.131200e+04  \\\n",
       "mean           7.946944           8.761189                4.113475e+03   \n",
       "std          174.571663         265.512144                2.740699e+05   \n",
       "min            1.000000           0.000000                0.000000e+00   \n",
       "25%            1.000000           0.000000                0.000000e+00   \n",
       "50%            2.000000           1.000000                6.000000e+00   \n",
       "75%            3.000000           1.000000                4.200000e+01   \n",
       "max        16164.000000       28683.000000                2.447558e+07   \n",
       "\n",
       "       Total Length of Bwd Packet  Fwd Packet Length Max   \n",
       "count                6.131200e+04           61312.000000  \\\n",
       "mean                 3.100417e+04             148.914372   \n",
       "std                  1.518680e+06             870.484158   \n",
       "min                  0.000000e+00               0.000000   \n",
       "25%                  0.000000e+00               0.000000   \n",
       "50%                  0.000000e+00               2.000000   \n",
       "75%                  1.010000e+02              31.000000   \n",
       "max                  2.367148e+08           30360.000000   \n",
       "\n",
       "       Fwd Packet Length Min  ...  Fwd Act Data Pkts  Fwd Seg Size Min   \n",
       "count           61312.000000  ...       61312.000000      61312.000000  \\\n",
       "mean               10.933618  ...           4.049158         19.333442   \n",
       "std                39.178181  ...         137.080954         11.563305   \n",
       "min                 0.000000  ...           0.000000          0.000000   \n",
       "25%                 0.000000  ...           0.000000          8.000000   \n",
       "50%                 0.000000  ...           0.000000         24.000000   \n",
       "75%                 6.000000  ...           1.000000         32.000000   \n",
       "max              2492.000000  ...       14298.000000         44.000000   \n",
       "\n",
       "        Active Mean    Active Std    Active Max    Active Min     Idle Mean   \n",
       "count  6.131200e+04  6.131200e+04  6.131200e+04  6.131200e+04  6.131200e+04  \\\n",
       "mean   1.690951e+05  3.768120e+04  2.050154e+05  1.399565e+05  1.504906e+15   \n",
       "std    1.087408e+06  4.587261e+05  1.308447e+06  1.000907e+06  3.775421e+14   \n",
       "min    0.000000e+00  0.000000e+00  0.000000e+00  0.000000e+00  1.415785e+14   \n",
       "25%    0.000000e+00  0.000000e+00  0.000000e+00  0.000000e+00  1.698678e+15   \n",
       "50%    0.000000e+00  0.000000e+00  0.000000e+00  0.000000e+00  1.698759e+15   \n",
       "75%    0.000000e+00  0.000000e+00  0.000000e+00  0.000000e+00  1.698853e+15   \n",
       "max    4.563963e+07  2.360663e+07  4.563963e+07  4.563963e+07  1.699022e+15   \n",
       "\n",
       "           Idle Std      Idle Max      Idle Min  \n",
       "count  6.131200e+04  6.131200e+04  6.131200e+04  \n",
       "mean   2.471550e+14  1.698824e+15  1.335041e+15  \n",
       "std    4.769617e+14  1.034010e+11  6.968948e+14  \n",
       "min    0.000000e+00  1.698678e+15  5.000013e+06  \n",
       "25%    0.000000e+00  1.698696e+15  1.698678e+15  \n",
       "50%    0.000000e+00  1.698847e+15  1.698759e+15  \n",
       "75%    0.000000e+00  1.698853e+15  1.698853e+15  \n",
       "max    1.201390e+15  1.699022e+15  1.699022e+15  \n",
       "\n",
       "[8 rows x 79 columns]"
      ]
     },
     "execution_count": 6,
     "metadata": {},
     "output_type": "execute_result"
    }
   ],
   "source": [
    "df.describe()"
   ]
  },
  {
   "cell_type": "code",
   "execution_count": 7,
   "id": "387c8877",
   "metadata": {
    "ExecuteTime": {
     "end_time": "2024-01-10T15:32:05.378554Z",
     "start_time": "2024-01-10T15:32:05.310902Z"
    }
   },
   "outputs": [
    {
     "name": "stdout",
     "output_type": "stream",
     "text": [
      "\n",
      "Columns with NaN values:\n",
      "Series([], dtype: bool)\n"
     ]
    }
   ],
   "source": [
    "nan_per_column = df.isna().any()\n",
    "print(\"\\nColumns with NaN values:\")\n",
    "print(nan_per_column[nan_per_column])"
   ]
  },
  {
   "cell_type": "code",
   "execution_count": 8,
   "id": "3528aef1",
   "metadata": {
    "ExecuteTime": {
     "end_time": "2024-01-10T15:32:09.087406Z",
     "start_time": "2024-01-10T15:32:09.075399Z"
    }
   },
   "outputs": [
    {
     "data": {
      "text/plain": [
       "Index(['Flow ID', 'Src IP', 'Src Port', 'Dst IP', 'Dst Port', 'Protocol',\n",
       "       'Timestamp', 'Flow Duration', 'Total Fwd Packet', 'Total Bwd packets',\n",
       "       'Total Length of Fwd Packet', 'Total Length of Bwd Packet',\n",
       "       'Fwd Packet Length Max', 'Fwd Packet Length Min',\n",
       "       'Fwd Packet Length Mean', 'Fwd Packet Length Std',\n",
       "       'Bwd Packet Length Max', 'Bwd Packet Length Min',\n",
       "       'Bwd Packet Length Mean', 'Bwd Packet Length Std', 'Flow Bytes/s',\n",
       "       'Flow Packets/s', 'Flow IAT Mean', 'Flow IAT Std', 'Flow IAT Max',\n",
       "       'Flow IAT Min', 'Fwd IAT Total', 'Fwd IAT Mean', 'Fwd IAT Std',\n",
       "       'Fwd IAT Max', 'Fwd IAT Min', 'Bwd IAT Total', 'Bwd IAT Mean',\n",
       "       'Bwd IAT Std', 'Bwd IAT Max', 'Bwd IAT Min', 'Fwd PSH Flags',\n",
       "       'Bwd PSH Flags', 'Fwd URG Flags', 'Bwd URG Flags', 'Fwd Header Length',\n",
       "       'Bwd Header Length', 'Fwd Packets/s', 'Bwd Packets/s',\n",
       "       'Packet Length Min', 'Packet Length Max', 'Packet Length Mean',\n",
       "       'Packet Length Std', 'Packet Length Variance', 'FIN Flag Count',\n",
       "       'SYN Flag Count', 'RST Flag Count', 'PSH Flag Count', 'ACK Flag Count',\n",
       "       'URG Flag Count', 'CWR Flag Count', 'ECE Flag Count', 'Down/Up Ratio',\n",
       "       'Average Packet Size', 'Fwd Segment Size Avg', 'Bwd Segment Size Avg',\n",
       "       'Fwd Bytes/Bulk Avg', 'Fwd Packet/Bulk Avg', 'Fwd Bulk Rate Avg',\n",
       "       'Bwd Bytes/Bulk Avg', 'Bwd Packet/Bulk Avg', 'Bwd Bulk Rate Avg',\n",
       "       'Subflow Fwd Packets', 'Subflow Fwd Bytes', 'Subflow Bwd Packets',\n",
       "       'Subflow Bwd Bytes', 'FWD Init Win Bytes', 'Bwd Init Win Bytes',\n",
       "       'Fwd Act Data Pkts', 'Fwd Seg Size Min', 'Active Mean', 'Active Std',\n",
       "       'Active Max', 'Active Min', 'Idle Mean', 'Idle Std', 'Idle Max',\n",
       "       'Idle Min', 'Label', 'Connection Type'],\n",
       "      dtype='object')"
      ]
     },
     "execution_count": 8,
     "metadata": {},
     "output_type": "execute_result"
    }
   ],
   "source": [
    "df.columns"
   ]
  },
  {
   "cell_type": "code",
   "execution_count": 9,
   "id": "223c38a4",
   "metadata": {
    "ExecuteTime": {
     "end_time": "2024-01-10T15:32:09.933261Z",
     "start_time": "2024-01-10T15:32:09.916168Z"
    }
   },
   "outputs": [
    {
     "data": {
      "text/plain": [
       "Label\n",
       "Benign                10499\n",
       "ICMP Flood             8299\n",
       "OS Scan                7067\n",
       "ARP Spoofing           6952\n",
       "DNS Flood              6806\n",
       "Slowloris              6603\n",
       "SYN Flood              6067\n",
       "Port Scan              6000\n",
       "Vulnerability Scan     3019\n",
       "Name: count, dtype: int64"
      ]
     },
     "execution_count": 9,
     "metadata": {},
     "output_type": "execute_result"
    }
   ],
   "source": [
    "df['Label'].value_counts()"
   ]
  },
  {
   "cell_type": "code",
   "execution_count": 10,
   "id": "572a6068",
   "metadata": {
    "ExecuteTime": {
     "end_time": "2024-01-10T15:32:16.932963Z",
     "start_time": "2024-01-10T15:32:16.842025Z"
    }
   },
   "outputs": [],
   "source": [
    "df['Connection Type'] = df['Connection Type'].replace({'wired':1,'wireless':0})\n",
    "Label_Encoder = LabelEncoder()\n",
    "df['Label'] = Label_Encoder.fit_transform(df['Label'])\n",
    "X = df.select_dtypes(exclude='object')\n",
    "X.drop('Label',axis=1,inplace=True)"
   ]
  },
  {
   "cell_type": "code",
   "execution_count": 11,
   "id": "a6b8fa92",
   "metadata": {
    "ExecuteTime": {
     "end_time": "2024-01-10T15:32:19.044343Z",
     "start_time": "2024-01-10T15:32:19.023799Z"
    }
   },
   "outputs": [],
   "source": [
    "label_encoder = LabelEncoder()\n",
    "encoded_labels = label_encoder.fit_transform(df['Label'])\n",
    "df['label_encoded'] = encoded_labels"
   ]
  },
  {
   "cell_type": "code",
   "execution_count": 12,
   "id": "f965d636",
   "metadata": {
    "ExecuteTime": {
     "end_time": "2024-01-10T15:32:19.857986Z",
     "start_time": "2024-01-10T15:32:19.851166Z"
    }
   },
   "outputs": [],
   "source": [
    "y = df['label_encoded']"
   ]
  },
  {
   "cell_type": "code",
   "execution_count": 13,
   "id": "03475d72",
   "metadata": {
    "ExecuteTime": {
     "end_time": "2024-01-10T15:36:23.377022Z",
     "start_time": "2024-01-10T15:36:23.316056Z"
    }
   },
   "outputs": [
    {
     "name": "stdout",
     "output_type": "stream",
     "text": [
      "Columns with 'inf' values:\n",
      "Index(['Flow Bytes/s', 'Flow Packets/s'], dtype='object')\n",
      "\n",
      "Columns with 'inf' values after replacement:\n",
      "Index([], dtype='object')\n"
     ]
    }
   ],
   "source": [
    "has_inf = np.any(np.isinf(X), axis=0)\n",
    "\n",
    "cols_with_inf = X.columns[has_inf]\n",
    "\n",
    "print(\"Columns with 'inf' values:\")\n",
    "print(cols_with_inf)\n",
    "\n",
    "replacement_value = 10000\n",
    "X[cols_with_inf] = X[cols_with_inf].replace([np.inf, -np.inf], replacement_value)\n",
    "\n",
    "has_inf_after_replace = np.any(np.isinf(X), axis=0)\n",
    "print(\"\\nColumns with 'inf' values after replacement:\")\n",
    "print(X.columns[has_inf_after_replace])"
   ]
  },
  {
   "cell_type": "code",
   "execution_count": 14,
   "id": "99c1062b",
   "metadata": {
    "ExecuteTime": {
     "end_time": "2024-01-10T15:36:27.312278Z",
     "start_time": "2024-01-10T15:36:27.281713Z"
    }
   },
   "outputs": [
    {
     "name": "stdout",
     "output_type": "stream",
     "text": [
      "Index([], dtype='object')\n"
     ]
    }
   ],
   "source": [
    "max1 = np.finfo(np.float64).max\n",
    "col1 = X.columns[(X > max1).any()]\n",
    "print(col1)"
   ]
  },
  {
   "cell_type": "code",
   "execution_count": 15,
   "id": "576cf4fc",
   "metadata": {
    "ExecuteTime": {
     "end_time": "2024-01-10T15:36:31.721806Z",
     "start_time": "2024-01-10T15:36:31.709274Z"
    }
   },
   "outputs": [
    {
     "data": {
      "text/plain": [
       "label_encoded\n",
       "1    10499\n",
       "3     8299\n",
       "4     7067\n",
       "0     6952\n",
       "2     6806\n",
       "7     6603\n",
       "6     6067\n",
       "5     6000\n",
       "8     3019\n",
       "Name: count, dtype: int64"
      ]
     },
     "execution_count": 15,
     "metadata": {},
     "output_type": "execute_result"
    }
   ],
   "source": [
    "y.value_counts()"
   ]
  },
  {
   "cell_type": "code",
   "execution_count": 16,
   "id": "ca8bb207",
   "metadata": {
    "ExecuteTime": {
     "end_time": "2024-01-10T15:36:32.156029Z",
     "start_time": "2024-01-10T15:36:32.147589Z"
    }
   },
   "outputs": [
    {
     "data": {
      "text/plain": [
       "(61312,)"
      ]
     },
     "execution_count": 16,
     "metadata": {},
     "output_type": "execute_result"
    }
   ],
   "source": [
    "y.shape"
   ]
  },
  {
   "cell_type": "code",
   "execution_count": 17,
   "id": "e56ebc08",
   "metadata": {
    "ExecuteTime": {
     "end_time": "2024-01-10T15:36:33.453447Z",
     "start_time": "2024-01-10T15:36:33.433961Z"
    }
   },
   "outputs": [],
   "source": [
    "label_encoder = LabelEncoder()\n",
    "y_encoded = label_encoder.fit_transform(y)\n",
    "y_one_hot = np.zeros((len(y_encoded), 9))\n",
    "y_one_hot[np.arange(len(y_encoded)), y_encoded] = 1"
   ]
  },
  {
   "cell_type": "code",
   "execution_count": 18,
   "id": "092d1ff0",
   "metadata": {
    "ExecuteTime": {
     "end_time": "2024-01-10T15:36:33.657893Z",
     "start_time": "2024-01-10T15:36:33.640883Z"
    }
   },
   "outputs": [
    {
     "data": {
      "text/plain": [
       "array([0., 1., 0., 0., 0., 0., 0., 0., 0.])"
      ]
     },
     "execution_count": 18,
     "metadata": {},
     "output_type": "execute_result"
    }
   ],
   "source": [
    "y_one_hot[0]"
   ]
  },
  {
   "cell_type": "code",
   "execution_count": 19,
   "id": "96b120c5",
   "metadata": {
    "ExecuteTime": {
     "end_time": "2024-01-10T15:36:35.022137Z",
     "start_time": "2024-01-10T15:36:34.656994Z"
    }
   },
   "outputs": [],
   "source": [
    "X_train,X_test,y_train,y_test = train_test_split(X,y_one_hot,test_size=0.2,random_state=42)\n",
    "scaler = StandardScaler()\n",
    "X_train = scaler.fit_transform(X_train)\n",
    "X_test = scaler.transform(X_test)"
   ]
  },
  {
   "cell_type": "code",
   "execution_count": 20,
   "id": "db178862",
   "metadata": {
    "ExecuteTime": {
     "end_time": "2024-01-10T15:36:36.228663Z",
     "start_time": "2024-01-10T15:36:36.221691Z"
    }
   },
   "outputs": [
    {
     "data": {
      "text/plain": [
       "(49049, 80)"
      ]
     },
     "execution_count": 20,
     "metadata": {},
     "output_type": "execute_result"
    }
   ],
   "source": [
    "X_train.shape"
   ]
  },
  {
   "cell_type": "code",
   "execution_count": 21,
   "id": "41a82d53",
   "metadata": {
    "ExecuteTime": {
     "end_time": "2024-01-10T15:36:36.991149Z",
     "start_time": "2024-01-10T15:36:36.977292Z"
    }
   },
   "outputs": [],
   "source": [
    "import keras\n",
    "from keras.callbacks import Callback\n",
    "\n",
    "class ReduceLRonDrop(Callback):\n",
    "    def __init__(self, factor=0.2, threshold=0.05, patience=3):\n",
    "        super(ReduceLRonDrop, self).__init__()\n",
    "        self.factor = factor\n",
    "        self.threshold = threshold\n",
    "        self.patience = patience\n",
    "        self.wait = 0\n",
    "\n",
    "    def on_epoch_end(self, epoch, logs=None):\n",
    "        if epoch > 0:\n",
    "            acc_diff = logs['val_accuracy'] - self.prev_accuracy\n",
    "            if acc_diff < -self.threshold:\n",
    "                lr = float(keras.backend.get_value(self.model.optimizer.lr))\n",
    "                new_lr = lr * self.factor\n",
    "                keras.backend.set_value(self.model.optimizer.lr, new_lr)\n",
    "                print(f'Reducing learning rate to {new_lr:.6f} due to accuracy drop.')\n",
    "                self.wait = 0\n",
    "            else:\n",
    "                self.wait += 1\n",
    "                if self.wait >= self.patience:\n",
    "                    self.wait = 0\n",
    "                    lr = float(keras.backend.get_value(self.model.optimizer.lr))\n",
    "                    new_lr = lr * self.factor\n",
    "                    keras.backend.set_value(self.model.optimizer.lr, new_lr)\n",
    "                    print(f'Reducing learning rate to {new_lr:.6f} due to patience.')\n",
    "        \n",
    "        self.prev_accuracy = logs['val_accuracy']\n",
    "\n",
    "early_stopping = keras.callbacks.EarlyStopping(patience=5, restore_best_weights=True)\n",
    "reduce_lr_on_drop = ReduceLRonDrop(factor=0.2, threshold=0.05, patience=3)"
   ]
  },
  {
   "cell_type": "code",
   "execution_count": 22,
   "id": "9b88841d",
   "metadata": {
    "ExecuteTime": {
     "end_time": "2024-01-10T15:36:38.334413Z",
     "start_time": "2024-01-10T15:36:38.241654Z"
    }
   },
   "outputs": [],
   "source": [
    "def create_model():\n",
    "    model1 = keras.Sequential([\n",
    "    keras.layers.Conv1D(filters=64, kernel_size=3, activation='relu', input_shape=(80, 1)),\n",
    "    keras.layers.MaxPooling1D(pool_size=2),\n",
    "    keras.layers.Flatten(),\n",
    "    keras.layers.Dense(256, activation='relu', kernel_regularizer=l2(0.001)),\n",
    "    keras.layers.Dense(128, activation='relu', kernel_regularizer=l2(0.001)),\n",
    "    keras.layers.Dense(128, activation='relu', kernel_regularizer=l2(0.001)),\n",
    "    keras.layers.Dense(64, activation='relu', kernel_regularizer=l2(0.001)),\n",
    "    keras.layers.Dense(32, activation='relu', kernel_regularizer=l2(0.001)),\n",
    "    keras.layers.Dense(9, activation='sigmoid')\n",
    "    ])\n",
    "    return model1"
   ]
  },
  {
   "cell_type": "code",
   "execution_count": 23,
   "id": "2ff24fc8",
   "metadata": {
    "ExecuteTime": {
     "end_time": "2024-01-10T15:36:38.944127Z",
     "start_time": "2024-01-10T15:36:38.922936Z"
    }
   },
   "outputs": [
    {
     "name": "stdout",
     "output_type": "stream",
     "text": [
      "WARNING:tensorflow:From C:\\Users\\naman\\AppData\\Local\\Programs\\Python\\Python310\\lib\\site-packages\\keras\\src\\backend.py:873: The name tf.get_default_graph is deprecated. Please use tf.compat.v1.get_default_graph instead.\n",
      "\n",
      "WARNING:tensorflow:From C:\\Users\\naman\\AppData\\Local\\Programs\\Python\\Python310\\lib\\site-packages\\keras\\src\\backend.py:6642: The name tf.nn.max_pool is deprecated. Please use tf.nn.max_pool2d instead.\n",
      "\n",
      "WARNING:tensorflow:From C:\\Users\\naman\\AppData\\Local\\Programs\\Python\\Python310\\lib\\site-packages\\keras\\src\\optimizers\\__init__.py:309: The name tf.train.Optimizer is deprecated. Please use tf.compat.v1.train.Optimizer instead.\n",
      "\n",
      "Epoch 1/25\n",
      "WARNING:tensorflow:From C:\\Users\\naman\\AppData\\Local\\Programs\\Python\\Python310\\lib\\site-packages\\keras\\src\\utils\\tf_utils.py:492: The name tf.ragged.RaggedTensorValue is deprecated. Please use tf.compat.v1.ragged.RaggedTensorValue instead.\n",
      "\n",
      "WARNING:tensorflow:From C:\\Users\\naman\\AppData\\Local\\Programs\\Python\\Python310\\lib\\site-packages\\keras\\src\\engine\\base_layer_utils.py:384: The name tf.executing_eagerly_outside_functions is deprecated. Please use tf.compat.v1.executing_eagerly_outside_functions instead.\n",
      "\n",
      "307/307 [==============================] - 5s 12ms/step - loss: 1.0959 - accuracy: 0.7767 - val_loss: 0.7386 - val_accuracy: 0.8663\n",
      "Epoch 2/25\n",
      "307/307 [==============================] - 3s 10ms/step - loss: 0.5663 - accuracy: 0.8945 - val_loss: 0.6438 - val_accuracy: 0.8717\n",
      "Epoch 3/25\n",
      "307/307 [==============================] - 3s 11ms/step - loss: 0.4430 - accuracy: 0.9152 - val_loss: 0.3731 - val_accuracy: 0.9394\n",
      "Epoch 4/25\n",
      "305/307 [============================>.] - ETA: 0s - loss: 0.3672 - accuracy: 0.9321Reducing learning rate to 0.000200 due to patience.\n",
      "307/307 [==============================] - 3s 11ms/step - loss: 0.3669 - accuracy: 0.9321 - val_loss: 0.4155 - val_accuracy: 0.9048\n",
      "Epoch 5/25\n",
      "307/307 [==============================] - 3s 10ms/step - loss: 0.2244 - accuracy: 0.9851 - val_loss: 0.1974 - val_accuracy: 0.9900\n",
      "Epoch 6/25\n",
      "307/307 [==============================] - 3s 10ms/step - loss: 0.1864 - accuracy: 0.9912 - val_loss: 0.2252 - val_accuracy: 0.9681\n",
      "Epoch 7/25\n",
      "303/307 [============================>.] - ETA: 0s - loss: 0.1737 - accuracy: 0.9906Reducing learning rate to 0.000040 due to patience.\n",
      "307/307 [==============================] - 3s 11ms/step - loss: 0.1735 - accuracy: 0.9907 - val_loss: 0.1727 - val_accuracy: 0.9892\n",
      "Epoch 8/25\n",
      "307/307 [==============================] - 3s 11ms/step - loss: 0.1569 - accuracy: 0.9941 - val_loss: 0.1606 - val_accuracy: 0.9904\n",
      "Epoch 9/25\n",
      "307/307 [==============================] - 4s 12ms/step - loss: 0.1519 - accuracy: 0.9942 - val_loss: 0.1561 - val_accuracy: 0.9910\n",
      "Epoch 10/25\n",
      "303/307 [============================>.] - ETA: 0s - loss: 0.1480 - accuracy: 0.9942Reducing learning rate to 0.000008 due to patience.\n",
      "307/307 [==============================] - 3s 11ms/step - loss: 0.1479 - accuracy: 0.9942 - val_loss: 0.1518 - val_accuracy: 0.9910\n",
      "Epoch 11/25\n",
      "307/307 [==============================] - 4s 12ms/step - loss: 0.1447 - accuracy: 0.9944 - val_loss: 0.1507 - val_accuracy: 0.9913\n",
      "Epoch 12/25\n",
      "307/307 [==============================] - 3s 11ms/step - loss: 0.1439 - accuracy: 0.9943 - val_loss: 0.1501 - val_accuracy: 0.9910\n",
      "Epoch 13/25\n",
      "307/307 [==============================] - ETA: 0s - loss: 0.1432 - accuracy: 0.9944Reducing learning rate to 0.000002 due to patience.\n",
      "307/307 [==============================] - 3s 11ms/step - loss: 0.1432 - accuracy: 0.9944 - val_loss: 0.1492 - val_accuracy: 0.9911\n",
      "Epoch 14/25\n",
      "307/307 [==============================] - 3s 11ms/step - loss: 0.1425 - accuracy: 0.9945 - val_loss: 0.1490 - val_accuracy: 0.9912\n",
      "Epoch 15/25\n",
      "307/307 [==============================] - 3s 11ms/step - loss: 0.1423 - accuracy: 0.9945 - val_loss: 0.1488 - val_accuracy: 0.9911\n",
      "Epoch 16/25\n",
      "303/307 [============================>.] - ETA: 0s - loss: 0.1423 - accuracy: 0.9944Reducing learning rate to 0.000000 due to patience.\n",
      "307/307 [==============================] - 3s 11ms/step - loss: 0.1422 - accuracy: 0.9944 - val_loss: 0.1486 - val_accuracy: 0.9912\n",
      "Epoch 17/25\n",
      "307/307 [==============================] - 3s 11ms/step - loss: 0.1421 - accuracy: 0.9945 - val_loss: 0.1486 - val_accuracy: 0.9910\n",
      "Epoch 18/25\n",
      "307/307 [==============================] - 3s 11ms/step - loss: 0.1420 - accuracy: 0.9945 - val_loss: 0.1486 - val_accuracy: 0.9910\n",
      "Epoch 19/25\n",
      "307/307 [==============================] - ETA: 0s - loss: 0.1420 - accuracy: 0.9945Reducing learning rate to 0.000000 due to patience.\n",
      "307/307 [==============================] - 3s 11ms/step - loss: 0.1420 - accuracy: 0.9945 - val_loss: 0.1486 - val_accuracy: 0.9910\n",
      "Epoch 20/25\n",
      "307/307 [==============================] - 4s 11ms/step - loss: 0.1420 - accuracy: 0.9945 - val_loss: 0.1485 - val_accuracy: 0.9910\n",
      "Epoch 21/25\n",
      "307/307 [==============================] - 3s 11ms/step - loss: 0.1420 - accuracy: 0.9945 - val_loss: 0.1485 - val_accuracy: 0.9910\n",
      "Epoch 22/25\n",
      "304/307 [============================>.] - ETA: 0s - loss: 0.1420 - accuracy: 0.9945Reducing learning rate to 0.000000 due to patience.\n",
      "307/307 [==============================] - 3s 11ms/step - loss: 0.1420 - accuracy: 0.9945 - val_loss: 0.1485 - val_accuracy: 0.9910\n",
      "Epoch 23/25\n",
      "307/307 [==============================] - 3s 11ms/step - loss: 0.1420 - accuracy: 0.9945 - val_loss: 0.1485 - val_accuracy: 0.9910\n",
      "Epoch 24/25\n",
      "307/307 [==============================] - 3s 11ms/step - loss: 0.1420 - accuracy: 0.9945 - val_loss: 0.1485 - val_accuracy: 0.9910\n",
      "Epoch 25/25\n",
      "305/307 [============================>.] - ETA: 0s - loss: 0.1420 - accuracy: 0.9945Reducing learning rate to 0.000000 due to patience.\n",
      "307/307 [==============================] - 3s 11ms/step - loss: 0.1420 - accuracy: 0.9945 - val_loss: 0.1485 - val_accuracy: 0.9910\n",
      "384/384 [==============================] - 1s 2ms/step\n",
      "Epoch 1/25\n",
      "307/307 [==============================] - 3s 9ms/step - loss: 2.6377 - accuracy: 0.4367 - val_loss: 2.0415 - val_accuracy: 0.6675\n",
      "Epoch 2/25\n",
      "307/307 [==============================] - 3s 9ms/step - loss: 1.6909 - accuracy: 0.7102 - val_loss: 1.5233 - val_accuracy: 0.7590\n",
      "Epoch 3/25\n",
      "307/307 [==============================] - 3s 9ms/step - loss: 1.4177 - accuracy: 0.7755 - val_loss: 1.3648 - val_accuracy: 0.7965\n",
      "Epoch 4/25\n",
      "304/307 [============================>.] - ETA: 0s - loss: 1.3047 - accuracy: 0.8151Reducing learning rate to 0.002000 due to patience.\n",
      "307/307 [==============================] - 3s 9ms/step - loss: 1.3039 - accuracy: 0.8155 - val_loss: 1.2619 - val_accuracy: 0.8399\n",
      "Epoch 5/25\n",
      "307/307 [==============================] - 3s 9ms/step - loss: 1.2341 - accuracy: 0.8502 - val_loss: 1.2306 - val_accuracy: 0.8499\n",
      "Epoch 6/25\n",
      "307/307 [==============================] - 3s 9ms/step - loss: 1.2157 - accuracy: 0.8578 - val_loss: 1.2162 - val_accuracy: 0.8597\n",
      "Epoch 7/25\n",
      "305/307 [============================>.] - ETA: 0s - loss: 1.1981 - accuracy: 0.8662Reducing learning rate to 0.000400 due to patience.\n",
      "307/307 [==============================] - 3s 9ms/step - loss: 1.1982 - accuracy: 0.8662 - val_loss: 1.1984 - val_accuracy: 0.8767\n",
      "Epoch 8/25\n",
      "307/307 [==============================] - 3s 9ms/step - loss: 1.1850 - accuracy: 0.8758 - val_loss: 1.1904 - val_accuracy: 0.8728\n",
      "Epoch 9/25\n",
      "307/307 [==============================] - 3s 9ms/step - loss: 1.1811 - accuracy: 0.8774 - val_loss: 1.1869 - val_accuracy: 0.8720\n",
      "Epoch 10/25\n",
      "305/307 [============================>.] - ETA: 0s - loss: 1.1776 - accuracy: 0.8783Reducing learning rate to 0.000080 due to patience.\n",
      "307/307 [==============================] - 3s 9ms/step - loss: 1.1775 - accuracy: 0.8784 - val_loss: 1.1832 - val_accuracy: 0.8794\n",
      "Epoch 11/25\n",
      "307/307 [==============================] - 3s 9ms/step - loss: 1.1749 - accuracy: 0.8813 - val_loss: 1.1821 - val_accuracy: 0.8760\n",
      "Epoch 12/25\n",
      "307/307 [==============================] - 3s 9ms/step - loss: 1.1741 - accuracy: 0.8798 - val_loss: 1.1814 - val_accuracy: 0.8758\n",
      "Epoch 13/25\n",
      "306/307 [============================>.] - ETA: 0s - loss: 1.1734 - accuracy: 0.8806Reducing learning rate to 0.000016 due to patience.\n",
      "307/307 [==============================] - 3s 9ms/step - loss: 1.1734 - accuracy: 0.8807 - val_loss: 1.1807 - val_accuracy: 0.8769\n"
     ]
    },
    {
     "name": "stdout",
     "output_type": "stream",
     "text": [
      "Epoch 14/25\n",
      "307/307 [==============================] - 3s 10ms/step - loss: 1.1729 - accuracy: 0.8813 - val_loss: 1.1805 - val_accuracy: 0.8765\n",
      "Epoch 15/25\n",
      "307/307 [==============================] - 3s 10ms/step - loss: 1.1727 - accuracy: 0.8806 - val_loss: 1.1804 - val_accuracy: 0.8766\n",
      "Epoch 16/25\n",
      "304/307 [============================>.] - ETA: 0s - loss: 1.1723 - accuracy: 0.8807Reducing learning rate to 0.000003 due to patience.\n",
      "307/307 [==============================] - 3s 10ms/step - loss: 1.1726 - accuracy: 0.8808 - val_loss: 1.1802 - val_accuracy: 0.8767\n",
      "Epoch 17/25\n",
      "307/307 [==============================] - 3s 9ms/step - loss: 1.1725 - accuracy: 0.8808 - val_loss: 1.1802 - val_accuracy: 0.8767\n",
      "Epoch 18/25\n",
      "307/307 [==============================] - 3s 10ms/step - loss: 1.1724 - accuracy: 0.8808 - val_loss: 1.1802 - val_accuracy: 0.8768\n",
      "Epoch 19/25\n",
      "307/307 [==============================] - ETA: 0s - loss: 1.1724 - accuracy: 0.8809Reducing learning rate to 0.000001 due to patience.\n",
      "307/307 [==============================] - 3s 9ms/step - loss: 1.1724 - accuracy: 0.8809 - val_loss: 1.1801 - val_accuracy: 0.8768\n",
      "Epoch 20/25\n",
      "307/307 [==============================] - 3s 9ms/step - loss: 1.1724 - accuracy: 0.8808 - val_loss: 1.1801 - val_accuracy: 0.8768\n",
      "Epoch 21/25\n",
      "307/307 [==============================] - 3s 9ms/step - loss: 1.1724 - accuracy: 0.8808 - val_loss: 1.1801 - val_accuracy: 0.8768\n",
      "Epoch 22/25\n",
      "302/307 [============================>.] - ETA: 0s - loss: 1.1722 - accuracy: 0.8809Reducing learning rate to 0.000000 due to patience.\n",
      "307/307 [==============================] - 3s 10ms/step - loss: 1.1724 - accuracy: 0.8808 - val_loss: 1.1801 - val_accuracy: 0.8768\n",
      "Epoch 23/25\n",
      "307/307 [==============================] - 3s 10ms/step - loss: 1.1724 - accuracy: 0.8808 - val_loss: 1.1801 - val_accuracy: 0.8768\n",
      "Epoch 24/25\n",
      "307/307 [==============================] - 3s 9ms/step - loss: 1.1724 - accuracy: 0.8808 - val_loss: 1.1801 - val_accuracy: 0.8768\n",
      "Epoch 25/25\n",
      "301/307 [============================>.] - ETA: 0s - loss: 1.1721 - accuracy: 0.8812Reducing learning rate to 0.000000 due to patience.\n",
      "307/307 [==============================] - 3s 9ms/step - loss: 1.1724 - accuracy: 0.8808 - val_loss: 1.1801 - val_accuracy: 0.8768\n",
      "384/384 [==============================] - 1s 2ms/step\n",
      "Epoch 1/25\n",
      "307/307 [==============================] - 5s 12ms/step - loss: 0.9621 - accuracy: 0.8134 - val_loss: 0.6004 - val_accuracy: 0.9065\n",
      "Epoch 2/25\n",
      "307/307 [==============================] - 4s 12ms/step - loss: 0.5116 - accuracy: 0.9288 - val_loss: 0.4808 - val_accuracy: 0.9261\n",
      "Epoch 3/25\n",
      "307/307 [==============================] - 4s 12ms/step - loss: 0.3787 - accuracy: 0.9601 - val_loss: 0.3624 - val_accuracy: 0.9661\n",
      "Epoch 4/25\n",
      "303/307 [============================>.] - ETA: 0s - loss: 0.3315 - accuracy: 0.9683Reducing learning rate to 0.000200 due to patience.\n",
      "307/307 [==============================] - 4s 12ms/step - loss: 0.3313 - accuracy: 0.9684 - val_loss: 0.3034 - val_accuracy: 0.9805\n",
      "Epoch 5/25\n",
      "307/307 [==============================] - 4s 12ms/step - loss: 0.2543 - accuracy: 0.9912 - val_loss: 0.2395 - val_accuracy: 0.9907\n",
      "Epoch 6/25\n",
      "307/307 [==============================] - 4s 12ms/step - loss: 0.2292 - accuracy: 0.9920 - val_loss: 0.2256 - val_accuracy: 0.9900\n",
      "Epoch 7/25\n",
      "304/307 [============================>.] - ETA: 0s - loss: 0.2149 - accuracy: 0.9931Reducing learning rate to 0.000040 due to patience.\n",
      "307/307 [==============================] - 4s 12ms/step - loss: 0.2151 - accuracy: 0.9930 - val_loss: 0.2182 - val_accuracy: 0.9908\n",
      "Epoch 8/25\n",
      "307/307 [==============================] - 4s 12ms/step - loss: 0.2050 - accuracy: 0.9932 - val_loss: 0.2078 - val_accuracy: 0.9907\n",
      "Epoch 9/25\n",
      "307/307 [==============================] - 4s 12ms/step - loss: 0.2013 - accuracy: 0.9936 - val_loss: 0.2054 - val_accuracy: 0.9906\n",
      "Epoch 10/25\n",
      "304/307 [============================>.] - ETA: 0s - loss: 0.1980 - accuracy: 0.9938Reducing learning rate to 0.000008 due to patience.\n",
      "307/307 [==============================] - 4s 12ms/step - loss: 0.1981 - accuracy: 0.9938 - val_loss: 0.2027 - val_accuracy: 0.9907\n",
      "Epoch 11/25\n",
      "307/307 [==============================] - 4s 12ms/step - loss: 0.1958 - accuracy: 0.9940 - val_loss: 0.2006 - val_accuracy: 0.9919\n",
      "Epoch 12/25\n",
      "307/307 [==============================] - 4s 13ms/step - loss: 0.1949 - accuracy: 0.9940 - val_loss: 0.2000 - val_accuracy: 0.9916\n",
      "Epoch 13/25\n",
      "303/307 [============================>.] - ETA: 0s - loss: 0.1941 - accuracy: 0.9939Reducing learning rate to 0.000002 due to patience.\n",
      "307/307 [==============================] - 4s 13ms/step - loss: 0.1941 - accuracy: 0.9939 - val_loss: 0.1990 - val_accuracy: 0.9917\n",
      "Epoch 14/25\n",
      "307/307 [==============================] - 4s 12ms/step - loss: 0.1933 - accuracy: 0.9941 - val_loss: 0.1988 - val_accuracy: 0.9916\n",
      "Epoch 15/25\n",
      "307/307 [==============================] - 4s 13ms/step - loss: 0.1931 - accuracy: 0.9941 - val_loss: 0.1986 - val_accuracy: 0.9916\n",
      "Epoch 16/25\n",
      "306/307 [============================>.] - ETA: 0s - loss: 0.1930 - accuracy: 0.9941Reducing learning rate to 0.000000 due to patience.\n",
      "307/307 [==============================] - 4s 12ms/step - loss: 0.1929 - accuracy: 0.9941 - val_loss: 0.1983 - val_accuracy: 0.9916\n",
      "Epoch 17/25\n",
      "307/307 [==============================] - 4s 12ms/step - loss: 0.1927 - accuracy: 0.9941 - val_loss: 0.1983 - val_accuracy: 0.9916\n",
      "Epoch 18/25\n",
      "307/307 [==============================] - 4s 12ms/step - loss: 0.1927 - accuracy: 0.9941 - val_loss: 0.1982 - val_accuracy: 0.9916\n",
      "Epoch 19/25\n",
      "305/307 [============================>.] - ETA: 0s - loss: 0.1926 - accuracy: 0.9942Reducing learning rate to 0.000000 due to patience.\n",
      "307/307 [==============================] - 4s 12ms/step - loss: 0.1926 - accuracy: 0.9942 - val_loss: 0.1982 - val_accuracy: 0.9916\n",
      "Epoch 20/25\n",
      "307/307 [==============================] - 4s 12ms/step - loss: 0.1926 - accuracy: 0.9941 - val_loss: 0.1982 - val_accuracy: 0.9916\n",
      "Epoch 21/25\n",
      "307/307 [==============================] - 4s 13ms/step - loss: 0.1926 - accuracy: 0.9941 - val_loss: 0.1982 - val_accuracy: 0.9916\n",
      "Epoch 22/25\n",
      "303/307 [============================>.] - ETA: 0s - loss: 0.1924 - accuracy: 0.9942Reducing learning rate to 0.000000 due to patience.\n",
      "307/307 [==============================] - 4s 12ms/step - loss: 0.1925 - accuracy: 0.9941 - val_loss: 0.1982 - val_accuracy: 0.9916\n",
      "Epoch 23/25\n",
      "307/307 [==============================] - 4s 12ms/step - loss: 0.1925 - accuracy: 0.9941 - val_loss: 0.1982 - val_accuracy: 0.9916\n",
      "Epoch 24/25\n",
      "307/307 [==============================] - 4s 12ms/step - loss: 0.1925 - accuracy: 0.9941 - val_loss: 0.1982 - val_accuracy: 0.9916\n",
      "Epoch 25/25\n",
      "307/307 [==============================] - ETA: 0s - loss: 0.1925 - accuracy: 0.9941Reducing learning rate to 0.000000 due to patience.\n",
      "307/307 [==============================] - 4s 12ms/step - loss: 0.1925 - accuracy: 0.9941 - val_loss: 0.1982 - val_accuracy: 0.9916\n",
      "384/384 [==============================] - 1s 2ms/step\n",
      "Epoch 1/25\n",
      "307/307 [==============================] - 4s 11ms/step - loss: 3.0432 - accuracy: 0.2605 - val_loss: 2.9855 - val_accuracy: 0.3542\n",
      "Epoch 2/25\n",
      "307/307 [==============================] - 3s 10ms/step - loss: 2.8956 - accuracy: 0.4674 - val_loss: 2.7775 - val_accuracy: 0.4908\n",
      "Epoch 3/25\n",
      "307/307 [==============================] - 3s 10ms/step - loss: 2.6146 - accuracy: 0.5479 - val_loss: 2.4599 - val_accuracy: 0.5897\n",
      "Epoch 4/25\n",
      "307/307 [==============================] - ETA: 0s - loss: 2.3030 - accuracy: 0.6026Reducing learning rate to 0.000200 due to patience.\n",
      "307/307 [==============================] - 3s 10ms/step - loss: 2.3030 - accuracy: 0.6026 - val_loss: 2.1623 - val_accuracy: 0.6094\n",
      "Epoch 5/25\n",
      "307/307 [==============================] - 3s 10ms/step - loss: 2.1177 - accuracy: 0.6171 - val_loss: 2.1008 - val_accuracy: 0.6229\n",
      "Epoch 6/25\n",
      "307/307 [==============================] - 3s 10ms/step - loss: 2.0563 - accuracy: 0.6359 - val_loss: 2.0419 - val_accuracy: 0.6378\n",
      "Epoch 7/25\n",
      "303/307 [============================>.] - ETA: 0s - loss: 1.9992 - accuracy: 0.6563Reducing learning rate to 0.000040 due to patience.\n",
      "307/307 [==============================] - 3s 10ms/step - loss: 1.9986 - accuracy: 0.6563 - val_loss: 1.9885 - val_accuracy: 0.6606\n"
     ]
    },
    {
     "name": "stdout",
     "output_type": "stream",
     "text": [
      "Epoch 8/25\n",
      "307/307 [==============================] - 3s 10ms/step - loss: 1.9664 - accuracy: 0.6689 - val_loss: 1.9785 - val_accuracy: 0.6674\n",
      "Epoch 9/25\n",
      "307/307 [==============================] - 3s 10ms/step - loss: 1.9564 - accuracy: 0.6724 - val_loss: 1.9690 - val_accuracy: 0.6725\n",
      "Epoch 10/25\n",
      "307/307 [==============================] - ETA: 0s - loss: 1.9470 - accuracy: 0.6777Reducing learning rate to 0.000008 due to patience.\n",
      "307/307 [==============================] - 3s 10ms/step - loss: 1.9470 - accuracy: 0.6777 - val_loss: 1.9599 - val_accuracy: 0.6754\n",
      "Epoch 11/25\n",
      "307/307 [==============================] - 3s 10ms/step - loss: 1.9414 - accuracy: 0.6789 - val_loss: 1.9582 - val_accuracy: 0.6758\n",
      "Epoch 12/25\n",
      "307/307 [==============================] - 3s 11ms/step - loss: 1.9396 - accuracy: 0.6794 - val_loss: 1.9565 - val_accuracy: 0.6760\n",
      "Epoch 13/25\n",
      "306/307 [============================>.] - ETA: 0s - loss: 1.9379 - accuracy: 0.6798Reducing learning rate to 0.000002 due to patience.\n",
      "307/307 [==============================] - 3s 11ms/step - loss: 1.9379 - accuracy: 0.6799 - val_loss: 1.9548 - val_accuracy: 0.6766\n",
      "Epoch 14/25\n",
      "307/307 [==============================] - 3s 10ms/step - loss: 1.9369 - accuracy: 0.6801 - val_loss: 1.9545 - val_accuracy: 0.6766\n",
      "Epoch 15/25\n",
      "307/307 [==============================] - 3s 10ms/step - loss: 1.9366 - accuracy: 0.6801 - val_loss: 1.9542 - val_accuracy: 0.6766\n",
      "Epoch 16/25\n",
      "307/307 [==============================] - ETA: 0s - loss: 1.9362 - accuracy: 0.6801Reducing learning rate to 0.000000 due to patience.\n",
      "307/307 [==============================] - 3s 10ms/step - loss: 1.9362 - accuracy: 0.6801 - val_loss: 1.9539 - val_accuracy: 0.6766\n",
      "Epoch 17/25\n",
      "307/307 [==============================] - 3s 10ms/step - loss: 1.9360 - accuracy: 0.6802 - val_loss: 1.9538 - val_accuracy: 0.6766\n",
      "Epoch 18/25\n",
      "307/307 [==============================] - 3s 10ms/step - loss: 1.9360 - accuracy: 0.6802 - val_loss: 1.9538 - val_accuracy: 0.6766\n",
      "Epoch 19/25\n",
      "302/307 [============================>.] - ETA: 0s - loss: 1.9359 - accuracy: 0.6805Reducing learning rate to 0.000000 due to patience.\n",
      "307/307 [==============================] - 3s 10ms/step - loss: 1.9360 - accuracy: 0.6802 - val_loss: 1.9537 - val_accuracy: 0.6766\n",
      "Epoch 20/25\n",
      "307/307 [==============================] - 3s 10ms/step - loss: 1.9359 - accuracy: 0.6802 - val_loss: 1.9537 - val_accuracy: 0.6766\n",
      "Epoch 21/25\n",
      "307/307 [==============================] - 3s 11ms/step - loss: 1.9359 - accuracy: 0.6802 - val_loss: 1.9537 - val_accuracy: 0.6766\n",
      "Epoch 22/25\n",
      "304/307 [============================>.] - ETA: 0s - loss: 1.9363 - accuracy: 0.6800Reducing learning rate to 0.000000 due to patience.\n",
      "307/307 [==============================] - 4s 12ms/step - loss: 1.9359 - accuracy: 0.6802 - val_loss: 1.9537 - val_accuracy: 0.6766\n",
      "Epoch 23/25\n",
      "307/307 [==============================] - 4s 12ms/step - loss: 1.9359 - accuracy: 0.6802 - val_loss: 1.9537 - val_accuracy: 0.6766\n",
      "Epoch 24/25\n",
      "307/307 [==============================] - 3s 11ms/step - loss: 1.9359 - accuracy: 0.6802 - val_loss: 1.9537 - val_accuracy: 0.6766\n",
      "Epoch 25/25\n",
      "303/307 [============================>.] - ETA: 0s - loss: 1.9361 - accuracy: 0.6802Reducing learning rate to 0.000000 due to patience.\n",
      "307/307 [==============================] - 3s 11ms/step - loss: 1.9359 - accuracy: 0.6802 - val_loss: 1.9537 - val_accuracy: 0.6766\n",
      "384/384 [==============================] - 1s 2ms/step\n"
     ]
    }
   ],
   "source": [
    "history_arr=[]\n",
    "metric_arr=[]\n",
    "optimizers = ['RMSprop','SGD','Adam','Adagrad']\n",
    "for optimizer in optimizers:\n",
    "    model = create_model()\n",
    "    model.compile(optimizer=optimizer, loss='categorical_crossentropy', metrics=['accuracy'])\n",
    "    history = model.fit(X_train, y_train, epochs=25, batch_size=128, validation_split=0.2,\n",
    "                        callbacks=[early_stopping, reduce_lr_on_drop])\n",
    "    history_arr.append(history)\n",
    "    arr = []\n",
    "    y_pred = model.predict(X_test)\n",
    "    y1 = y_pred.argmax(axis=1)\n",
    "    y2 = y_test.argmax(axis=1)\n",
    "    precision = precision_score(y2, y1, average='weighted')\n",
    "    recall = recall_score(y2, y1, average='weighted')\n",
    "    f1 = f1_score(y2, y1, average='weighted')\n",
    "    arr.append(precision)\n",
    "    arr.append(recall)\n",
    "    arr.append(f1)\n",
    "    metric_arr.append(arr)\n",
    "    if optimizer=='RMSprop':\n",
    "        conf_matrix = confusion_matrix(y2,y1)"
   ]
  },
  {
   "cell_type": "code",
   "execution_count": 24,
   "id": "39db02c3",
   "metadata": {},
   "outputs": [
    {
     "name": "stdout",
     "output_type": "stream",
     "text": [
      "[[0.9926748428134667, 0.9926608497105113, 0.992661826183905], [0.8777748792247785, 0.8776808285085216, 0.8755304116181135], [0.9913791547193869, 0.9913561118812688, 0.9913593053121106], [0.699915781702315, 0.6817255157791732, 0.6562501897393312]]\n"
     ]
    }
   ],
   "source": [
    "print(metric_arr)"
   ]
  },
  {
   "cell_type": "code",
   "execution_count": 27,
   "id": "a6405116",
   "metadata": {},
   "outputs": [
    {
     "name": "stdout",
     "output_type": "stream",
     "text": [
      "[0.7767017483711243, 0.8944927453994751, 0.9152119159698486, 0.9321338534355164, 0.9850913882255554, 0.991233229637146, 0.9907234907150269, 0.9940620064735413, 0.994163990020752, 0.994240403175354, 0.9943933486938477, 0.9943423867225647, 0.9944443106651306, 0.9944697618484497, 0.9944697618484497, 0.9944187998771667, 0.9944697618484497, 0.9944952726364136, 0.9944697618484497, 0.9944952726364136, 0.9944952726364136, 0.9944952726364136, 0.9944952726364136, 0.9944952726364136, 0.9944952726364136]\n",
      "[0.43668287992477417, 0.7101863026618958, 0.7754784822463989, 0.8155406713485718, 0.850225567817688, 0.8577945232391357, 0.8661535978317261, 0.8757613301277161, 0.8774178624153137, 0.8783863186836243, 0.8813425302505493, 0.8797879815101624, 0.8806799650192261, 0.8812661170959473, 0.8806289434432983, 0.880781888961792, 0.8808073401451111, 0.8807563781738281, 0.8808838129043579, 0.880781888961792, 0.8808073401451111, 0.880781888961792, 0.880781888961792, 0.880781888961792, 0.880781888961792]\n",
      "[0.8133744597434998, 0.9288462996482849, 0.960090696811676, 0.9683988094329834, 0.9912077188491821, 0.992023229598999, 0.9929916858673096, 0.9931700825691223, 0.9935778379440308, 0.9938071966171265, 0.9939600825309753, 0.9940365552902222, 0.9938836097717285, 0.9940620064735413, 0.994113028049469, 0.9940620064735413, 0.9940875172615051, 0.9940875172615051, 0.994189441204071, 0.9941384792327881, 0.9941384792327881, 0.9941384792327881, 0.9941384792327881, 0.9941384792327881, 0.9941384792327881]\n",
      "[0.2604806423187256, 0.4674176275730133, 0.547924280166626, 0.6025637984275818, 0.6170901656150818, 0.6359489560127258, 0.65628582239151, 0.6689262986183167, 0.6723922491073608, 0.6777440905570984, 0.6789163947105408, 0.679400622844696, 0.6798847913742065, 0.6800631880760193, 0.6800631880760193, 0.6800886988639832, 0.68016517162323, 0.68016517162323, 0.6802161335945129, 0.6802161335945129, 0.6802161335945129, 0.6802161335945129, 0.6802161335945129, 0.6802161335945129, 0.6802161335945129]\n"
     ]
    },
    {
     "data": {
      "image/png": "[encoded data removed]",
      "text/plain": [
       "<Figure size 1200x1000 with 1 Axes>"
      ]
     },
     "metadata": {},
     "output_type": "display_data"
    }
   ],
   "source": [
    "acc_val = []\n",
    "markers=['o','s','^','D']\n",
    "for history in history_arr:\n",
    "    acc_val.append(history.history['accuracy'])\n",
    "print(acc_val[0])\n",
    "print(acc_val[1])\n",
    "print(acc_val[2])\n",
    "print(acc_val[3])\n",
    "epochs = range(1,len(acc_val[0])+1)\n",
    "plt.figure(figsize=(12,10))\n",
    "for i,acc in enumerate(acc_val):\n",
    "    plt.plot(epochs,acc,label=optimizers[i],marker=markers[i])\n",
    "plt.grid(True)\n",
    "plt.xlabel('Epochs')\n",
    "plt.ylabel('Accuracy')\n",
    "#plt.title('Accuracy of different models')\n",
    "plt.legend()\n",
    "#plt.savefig('Accuracy.pdf',dpi=600,format='pdf',bbox_inches='tight')\n",
    "plt.show()"
   ]
  },
  {
   "cell_type": "code",
   "execution_count": 28,
   "id": "bdaf6c8e",
   "metadata": {},
   "outputs": [
    {
     "name": "stdout",
     "output_type": "stream",
     "text": [
      "[1.0958595275878906, 0.5662892460823059, 0.44300124049186707, 0.36689502000808716, 0.22444775700569153, 0.1863711178302765, 0.1734544187784195, 0.15685121715068817, 0.1518569439649582, 0.1479080468416214, 0.14471973478794098, 0.14393587410449982, 0.14317946135997772, 0.14251463115215302, 0.1423497498035431, 0.14220593869686127, 0.14206752181053162, 0.14203336834907532, 0.14200745522975922, 0.14197847247123718, 0.14197292923927307, 0.14196626842021942, 0.14196032285690308, 0.14195916056632996, 0.14195796847343445]\n",
      "[2.6377182006835938, 1.6909432411193848, 1.4177196025848389, 1.3039389848709106, 1.2340503931045532, 1.2156933546066284, 1.1981799602508545, 1.1849825382232666, 1.1810846328735352, 1.177477478981018, 1.1748912334442139, 1.174147605895996, 1.1733946800231934, 1.1728670597076416, 1.1727176904678345, 1.1725730895996094, 1.1724611520767212, 1.17243230342865, 1.1724036931991577, 1.1723823547363281, 1.172377586364746, 1.1723726987838745, 1.172369360923767, 1.1723685264587402, 1.1723681688308716]\n",
      "[0.9620888233184814, 0.5115552544593811, 0.3786751627922058, 0.3312574028968811, 0.25430986285209656, 0.22918950021266937, 0.21508996188640594, 0.2049511820077896, 0.2012500911951065, 0.19809561967849731, 0.19575688242912292, 0.1948550045490265, 0.19407622516155243, 0.19333095848560333, 0.19311769306659698, 0.1929342895746231, 0.19272097945213318, 0.19267036020755768, 0.19262190163135529, 0.1925744116306305, 0.19256213307380676, 0.19254902005195618, 0.19253897666931152, 0.19253680109977722, 0.1925341933965683]\n",
      "[3.0431697368621826, 2.8955883979797363, 2.6145613193511963, 2.3029890060424805, 2.117739677429199, 2.0562753677368164, 1.9986125230789185, 1.966371774673462, 1.9564306735992432, 1.9469586610794067, 1.9414058923721313, 1.9396365880966187, 1.9379111528396606, 1.9368853569030762, 1.9365558624267578, 1.9362343549728394, 1.9360499382019043, 1.9360020160675049, 1.935956358909607, 1.9359313249588013, 1.935929298400879, 1.9359259605407715, 1.935926079750061, 1.9359254837036133, 1.935924768447876]\n"
     ]
    },
    {
     "data": {
      "image/png": "[encoded data removed]",
      "text/plain": [
       "<Figure size 1200x1000 with 1 Axes>"
      ]
     },
     "metadata": {},
     "output_type": "display_data"
    }
   ],
   "source": [
    "loss_val = []\n",
    "for history in history_arr:\n",
    "    loss_val.append(history.history['loss'])\n",
    "print(loss_val[0])\n",
    "print(loss_val[1])\n",
    "print(loss_val[2])\n",
    "print(loss_val[3])\n",
    "epochs = range(1,len(loss_val[0])+1)\n",
    "plt.figure(figsize=(12,10))\n",
    "for i,acc in enumerate(loss_val):\n",
    "    plt.plot(epochs,acc,label=optimizers[i],marker=markers[i])\n",
    "plt.grid(True)\n",
    "plt.xlabel('Epochs')\n",
    "plt.ylabel('Loss')\n",
    "#plt.title('Loss of different models')\n",
    "plt.legend()\n",
    "plt.grid(True)\n",
    "#plt.savefig('Loss.pdf',dpi=600,format='pdf',bbox_inches='tight')\n",
    "plt.show()"
   ]
  },
  {
   "cell_type": "code",
   "execution_count": 73,
   "id": "f23dcdc9",
   "metadata": {},
   "outputs": [
    {
     "data": {
      "image/png": "[encoded data removed]",
      "text/plain": [
       "<Figure size 1200x800 with 2 Axes>"
      ]
     },
     "metadata": {},
     "output_type": "display_data"
    }
   ],
   "source": [
    "threats= ['ARP Spoofing','Benign','DNS Flood','ICMP Flood','OS Scan','Port Scan','SYN Flood','Slowloris','Vulnerability Scan']\n",
    "plt.figure(figsize=(12,10))\n",
    "sns.heatmap(conf_matrix,annot=True,fmt='d',cmap='Blues',xticklabels=threats, yticklabels=threats)\n",
    "#plt.title('Confusion Matrix for RMSprop Model')\n",
    "plt.xlabel('Predicted Labels')\n",
    "plt.ylabel('True Labels')\n",
    "plt.savefig('Confusion_Matrix.pdf',dpi=600,format='pdf',bbox_inches='tight')\n",
    "plt.show()"
   ]
  },
  {
   "cell_type": "code",
   "execution_count": 65,
   "id": "c921e803",
   "metadata": {},
   "outputs": [
    {
     "data": {
      "image/png": "[encoded data removed]",
      "text/plain": [
       "<Figure size 1200x1000 with 1 Axes>"
      ]
     },
     "metadata": {},
     "output_type": "display_data"
    }
   ],
   "source": [
    "metric = ['Precision','Recall','F1']\n",
    "num_bars = len(metric) #3\n",
    "num_groups = len(optimizers) #4\n",
    "bar_width = 0.2\n",
    "colors = plt.cm.viridis(np.linspace(0, 1, 4))\n",
    "fig, abc = plt.subplots(figsize=(12, 10))\n",
    "for i, label in enumerate(metric):\n",
    "    positions = np.arange(num_groups) + i * bar_width\n",
    "    bars = abc.bar(positions, [group[i] for group in metric_arr], bar_width, label=label, color=colors[i])\n",
    "abc.set_xticks(np.arange(num_groups) + (num_bars - 1) * bar_width / 2)\n",
    "abc.set_xticklabels(optimizers)\n",
    "abc.set_xlabel('Optimizers')\n",
    "abc.set_ylabel('Value')\n",
    "#abc.set_title('Precision, Recall, F1 Score graph')\n",
    "abc.legend()\n",
    "plt.savefig('Metrics.pdf',dpi=600,format='pdf',bbox_inches='tight')\n",
    "plt.show()"
   ]
  },
  {
   "cell_type": "code",
   "execution_count": null,
   "id": "b78e1899",
   "metadata": {},
   "outputs": [],
   "source": []
  }
 ],
 "metadata": {
  "kernelspec": {
   "display_name": "Python 3 (ipykernel)",
   "language": "python",
   "name": "python3"
  },
  "language_info": {
   "codemirror_mode": {
    "name": "ipython",
    "version": 3
   },
   "file_extension": ".py",
   "mimetype": "text/x-python",
   "name": "python",
   "nbconvert_exporter": "python",
   "pygments_lexer": "ipython3",
   "version": "3.10.7"
  }
 },
 "nbformat": 4,
 "nbformat_minor": 5
}
